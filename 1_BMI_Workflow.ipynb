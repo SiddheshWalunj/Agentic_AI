{
 "cells": [
  {
   "cell_type": "markdown",
   "id": "f75a9e1d",
   "metadata": {},
   "source": [
    "# BMI Calculator"
   ]
  },
  {
   "cell_type": "code",
   "execution_count": 28,
   "metadata": {},
   "outputs": [],
   "source": [
    "from langgraph.graph import StateGraph, START, END\n",
    "from typing import TypedDict"
   ]
  },
  {
   "cell_type": "code",
   "execution_count": 29,
   "id": "f2e55e9e",
   "metadata": {},
   "outputs": [],
   "source": [
    "# define state\n",
    "class BMIState(TypedDict):\n",
    "    \n",
    "    weight: float  # in kg\n",
    "    height: float  # in meters\n",
    "    bmi: float  # Body Mass Index\n",
    "    category: str  # BMI category"
   ]
  },
  {
   "cell_type": "code",
   "execution_count": 30,
   "id": "d7d3b2f2",
   "metadata": {},
   "outputs": [],
   "source": [
    "def calculate_bmi(state: BMIState) -> BMIState:\n",
    "\n",
    "    weight = state['weight']\n",
    "    height = state['height']\n",
    "\n",
    "    bmi = weight / (height ** 2)\n",
    "\n",
    "    state['bmi'] = round(bmi,2)\n",
    "\n",
    "    return state"
   ]
  },
  {
   "cell_type": "code",
   "execution_count": 31,
   "id": "c75ba512",
   "metadata": {},
   "outputs": [],
   "source": [
    "def label_bmi(state: BMIState) -> BMIState:\n",
    "\n",
    "    bmi = state['bmi']\n",
    "\n",
    "    if bmi < 18.5:\n",
    "        state['category'] = 'Underweight'\n",
    "    elif 18.5 <= bmi < 24.9:\n",
    "        state['category'] = 'Normal weight'\n",
    "    elif 25 <= bmi < 29.9:\n",
    "        state['category'] = 'Overweight'\n",
    "    else:\n",
    "        state['category'] = 'Obesity'\n",
    "\n",
    "    return state"
   ]
  },
  {
   "cell_type": "code",
   "execution_count": 32,
   "id": "72ba4146",
   "metadata": {},
   "outputs": [],
   "source": [
    "# define graph\n",
    "graph = StateGraph(BMIState)\n",
    "\n",
    "# add nodes to your graph\n",
    "graph.add_node('calculate_bmi',calculate_bmi)\n",
    "graph.add_node('label_bmi',label_bmi)\n",
    "\n",
    "# add edges to your graph\n",
    "graph.add_edge(START, 'calculate_bmi')\n",
    "graph.add_edge('calculate_bmi', 'label_bmi')\n",
    "graph.add_edge('calculate_bmi', END)\n",
    "\n",
    "# compile the graph\n",
    "workflow = graph.compile()"
   ]
  },
  {
   "cell_type": "code",
   "execution_count": 33,
   "id": "043d4f6a",
   "metadata": {},
   "outputs": [
    {
     "name": "stdout",
     "output_type": "stream",
     "text": [
      "{'weight': 70, 'height': 1.75, 'bmi': 22.86, 'category': 'Normal weight'}\n"
     ]
    }
   ],
   "source": [
    "# execute the graph\n",
    "\n",
    "initial_state  = {'weight': 70, 'height': 1.75}\n",
    "\n",
    "final_state = workflow.invoke(initial_state)\n",
    "\n",
    "print(final_state)"
   ]
  },
  {
   "cell_type": "code",
   "execution_count": 43,
   "id": "82a302a0",
   "metadata": {},
   "outputs": [
    {
     "name": "stdout",
     "output_type": "stream",
     "text": [
      "['__annotations__', '__bool__', '__class__', '__dataclass_fields__', '__dataclass_params__', '__delattr__', '__dict__', '__dir__', '__doc__', '__eq__', '__firstlineno__', '__format__', '__ge__', '__getattribute__', '__getstate__', '__gt__', '__hash__', '__init__', '__init_subclass__', '__le__', '__lt__', '__match_args__', '__module__', '__ne__', '__new__', '__reduce__', '__reduce_ex__', '__replace__', '__repr__', '__setattr__', '__sizeof__', '__static_attributes__', '__str__', '__subclasshook__', '__weakref__', 'add_edge', 'add_node', 'draw_ascii', 'draw_mermaid', 'draw_mermaid_png', 'draw_png', 'edges', 'extend', 'first_node', 'last_node', 'next_id', 'nodes', 'print_ascii', 'reid', 'remove_node', 'to_json', 'trim_first_node', 'trim_last_node']\n"
     ]
    }
   ],
   "source": [
    "print(dir(workflow.get_graph()))"
   ]
  },
  {
   "cell_type": "code",
   "execution_count": 42,
   "id": "84f73097",
   "metadata": {},
   "outputs": [
    {
     "ename": "AttributeError",
     "evalue": "'Graph' object has no attribute 'get_mermaid'",
     "output_type": "error",
     "traceback": [
      "\u001b[31m---------------------------------------------------------------------------\u001b[39m",
      "\u001b[31mAttributeError\u001b[39m                            Traceback (most recent call last)",
      "\u001b[36mCell\u001b[39m\u001b[36m \u001b[39m\u001b[32mIn[42]\u001b[39m\u001b[32m, line 1\u001b[39m\n\u001b[32m----> \u001b[39m\u001b[32m1\u001b[39m mermaid_code = \u001b[43mworkflow\u001b[49m\u001b[43m.\u001b[49m\u001b[43mget_graph\u001b[49m\u001b[43m(\u001b[49m\u001b[43m)\u001b[49m\u001b[43m.\u001b[49m\u001b[43mget_mermaid\u001b[49m()\n\u001b[32m      2\u001b[39m \u001b[38;5;28mprint\u001b[39m(mermaid_code)\n",
      "\u001b[31mAttributeError\u001b[39m: 'Graph' object has no attribute 'get_mermaid'"
     ]
    }
   ],
   "source": [
    "mermaid_code = workflow.get_graph().get_mermaid()\n",
    "print(mermaid_code)"
   ]
  }
 ],
 "metadata": {
  "kernelspec": {
   "display_name": "LangGraph_venv (3.13.5)",
   "language": "python",
   "name": "python3"
  },
  "language_info": {
   "codemirror_mode": {
    "name": "ipython",
    "version": 3
   },
   "file_extension": ".py",
   "mimetype": "text/x-python",
   "name": "python",
   "nbconvert_exporter": "python",
   "pygments_lexer": "ipython3",
   "version": "3.13.5"
  }
 },
 "nbformat": 4,
 "nbformat_minor": 5
}
